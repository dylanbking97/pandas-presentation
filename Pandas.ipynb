{
 "cells": [
  {
   "attachments": {},
   "cell_type": "markdown",
   "metadata": {},
   "source": [
    "# Pandas: Data Manipulation and Analysis in Python"
   ]
  },
  {
   "cell_type": "code",
   "execution_count": null,
   "metadata": {
    "collapsed": true
   },
   "outputs": [],
   "source": [
    "import pandas as pd\n",
    "import numpy as np"
   ]
  },
  {
   "cell_type": "markdown",
   "metadata": {},
   "source": [
    "### Pandas\n",
    "* Python library (Open-source) for working with structured data\n",
    "* One of the most widely used libraries for the data cleaning step\n",
    "* Optimized for fast performance on \"large data\" (not big data)\n",
    "\n",
    "Integrates with Python: highly readable, syntax makes sense"
   ]
  },
  {
   "cell_type": "markdown",
   "metadata": {},
   "source": [
    "### Getting the Data\n",
    "\n",
    "* Pandas handles Excel, CSV, SQL-Tables, JSON, Fixed Width\n",
    "* read_excel, read_csv, etc. all return the data inside of a dataFrame"
   ]
  },
  {
   "cell_type": "code",
   "execution_count": null,
   "metadata": {
    "scrolled": true
   },
   "outputs": [],
   "source": [
    "df = pd.read_excel(\"Data.xlsx\")"
   ]
  },
  {
   "cell_type": "markdown",
   "metadata": {},
   "source": [
    "### DataFrames\n",
    "* Main data structure in Pandas\n",
    "* A dataFrame in Pandas is made up of a collection of 1d columns called 'Series'\n",
    "* Similar to a SQL table, a data.frame in R"
   ]
  },
  {
   "cell_type": "code",
   "execution_count": null,
   "metadata": {},
   "outputs": [],
   "source": [
    "df.head()"
   ]
  },
  {
   "cell_type": "code",
   "execution_count": null,
   "metadata": {},
   "outputs": [],
   "source": [
    "# Get information about the dataframe\n",
    "print(df.shape)\n",
    "print(df.info())\n",
    "# Pandas can infer the schema AND data types\n",
    "# Note that the 'omits' column is of floating point type"
   ]
  },
  {
   "cell_type": "markdown",
   "metadata": {},
   "source": [
    "#### Data Exploration"
   ]
  },
  {
   "cell_type": "code",
   "execution_count": null,
   "metadata": {},
   "outputs": [],
   "source": [
    "print(df.describe())\n",
    "print(df.mean())"
   ]
  },
  {
   "cell_type": "code",
   "execution_count": null,
   "metadata": {},
   "outputs": [],
   "source": [
    "print(df['form'].unique())\n",
    "print(df['form'].value_counts())\n",
    "# Access column names using df['column'] or df.column"
   ]
  },
  {
   "cell_type": "markdown",
   "metadata": {},
   "source": [
    "DataFrames are mutable: they can be modified after creation\n",
    "* You can add, delete, alter, etc."
   ]
  },
  {
   "cell_type": "code",
   "execution_count": null,
   "metadata": {},
   "outputs": [],
   "source": [
    "df.rename(columns={'section_NUM':'section'}).head(3)"
   ]
  },
  {
   "cell_type": "markdown",
   "metadata": {},
   "source": [
    "### Querying/Subsetting a DataFrame\n",
    "* Similar to SQL (SELECT, FROM, WHERE)\n",
    "\n",
    "#### Selecting columns"
   ]
  },
  {
   "cell_type": "code",
   "execution_count": null,
   "metadata": {},
   "outputs": [],
   "source": [
    "subset = df[['correct','incorrect']]\n",
    "print(subset)"
   ]
  },
  {
   "cell_type": "markdown",
   "metadata": {},
   "source": [
    "#### Selecting rows using logic"
   ]
  },
  {
   "cell_type": "code",
   "execution_count": null,
   "metadata": {
    "scrolled": false
   },
   "outputs": [],
   "source": [
    "subset1 = subset[subset['correct']>=80]\n",
    "print(subset1)\n",
    "#print(subset1.reset_index(drop=True))"
   ]
  },
  {
   "cell_type": "code",
   "execution_count": null,
   "metadata": {},
   "outputs": [],
   "source": [
    "print(df[(df['type'] == 'MC') & (df['omits']<=10)].reset_index(drop=True))"
   ]
  },
  {
   "cell_type": "markdown",
   "metadata": {},
   "source": [
    "#### Aggregate queries with 'groupby'"
   ]
  },
  {
   "cell_type": "code",
   "execution_count": null,
   "metadata": {},
   "outputs": [],
   "source": [
    "df[['form','correct', 'incorrect']].groupby('form').mean()"
   ]
  },
  {
   "cell_type": "markdown",
   "metadata": {},
   "source": [
    "### Joins"
   ]
  },
  {
   "cell_type": "code",
   "execution_count": null,
   "metadata": {},
   "outputs": [],
   "source": [
    "left = pd.DataFrame({'form': ['5MSA11', 'K-50SA10'],\n",
    "                     'A': [10, 25],\n",
    "                     'B': [20, 25]})\n",
    "right = pd.DataFrame({'form': ['K-50SA10', '5MSA11'],\n",
    "                      'C': [25, 30],\n",
    "                      'D': [25, 40]})\n",
    "\n",
    "print(left)\n",
    "print(right)\n",
    "\n",
    "result = pd.merge(left, right, on='form')\n",
    "print(result)\n",
    "# defaults to an inner join"
   ]
  },
  {
   "cell_type": "markdown",
   "metadata": {},
   "source": [
    "### Pandas for Data Cleaning\n",
    "* DataFrames usually aren't clean (incorrect format, missing values)\n",
    "* Mutability, ability to change entire rows/columns makes Pandas effective \n",
    "* We don't just want to the data to be clean, we want it to be useful\n",
    "* Feature engineering for machine learning\n",
    "* 80-90% of Analytics/ML project time is spent in the data cleaning phase"
   ]
  },
  {
   "cell_type": "markdown",
   "metadata": {},
   "source": [
    "### Missing Values"
   ]
  },
  {
   "cell_type": "code",
   "execution_count": null,
   "metadata": {},
   "outputs": [],
   "source": [
    "df.isnull().sum()"
   ]
  },
  {
   "cell_type": "code",
   "execution_count": null,
   "metadata": {},
   "outputs": [],
   "source": [
    "df\n",
    "# df['type'] = df['type'].fillna('MC')\n",
    "# df['omits'] = df['omits'].fillna(0)\n",
    "# df"
   ]
  },
  {
   "cell_type": "markdown",
   "metadata": {},
   "source": [
    "Other strategies for handling missing values include:\n",
    "* average value, interpolation, deleting the row"
   ]
  },
  {
   "cell_type": "markdown",
   "metadata": {},
   "source": [
    "### Scaling"
   ]
  },
  {
   "cell_type": "code",
   "execution_count": null,
   "metadata": {},
   "outputs": [],
   "source": [
    "df['incorrect'] = np.log(df['incorrect'])\n",
    "df.head()"
   ]
  },
  {
   "cell_type": "markdown",
   "metadata": {},
   "source": [
    "### Feature Engineering\n",
    "* Create new features/variables based on existing variables\n",
    "* Feature Engineering is a crucial part of training accurate algorithms\n",
    "* Requires industry knowledge to be able to infer which statistics will be most useful for analytics"
   ]
  },
  {
   "cell_type": "code",
   "execution_count": null,
   "metadata": {},
   "outputs": [],
   "source": [
    "df['accuracy'] = df['correct']/df['Total']\n",
    "df.head()"
   ]
  },
  {
   "cell_type": "markdown",
   "metadata": {},
   "source": [
    "### One-Hot Encoding\n",
    "* encodes categorical variables \n",
    "* useful for math-based algorithms like neural networks, which require numerical values"
   ]
  },
  {
   "cell_type": "code",
   "execution_count": null,
   "metadata": {},
   "outputs": [],
   "source": [
    "print(df.head())\n",
    "dummies = pd.get_dummies(df['type'])\n",
    "dummies"
   ]
  },
  {
   "cell_type": "code",
   "execution_count": null,
   "metadata": {},
   "outputs": [],
   "source": [
    "df"
   ]
  },
  {
   "cell_type": "markdown",
   "metadata": {},
   "source": [
    "### For Big Data, Pandas efficiency will drop\n",
    "* Use big data tools like Hadoop or Spark instead"
   ]
  },
  {
   "cell_type": "code",
   "execution_count": null,
   "metadata": {
    "collapsed": true
   },
   "outputs": [],
   "source": []
  }
 ],
 "metadata": {
  "kernelspec": {
   "display_name": "Python 3",
   "language": "python",
   "name": "python3"
  },
  "language_info": {
   "codemirror_mode": {
    "name": "ipython",
    "version": 3
   },
   "file_extension": ".py",
   "mimetype": "text/x-python",
   "name": "python",
   "nbconvert_exporter": "python",
   "pygments_lexer": "ipython3",
   "version": "3.6.8"
  }
 },
 "nbformat": 4,
 "nbformat_minor": 2
}
