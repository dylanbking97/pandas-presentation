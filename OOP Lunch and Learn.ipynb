{
 "cells": [
  {
   "cell_type": "markdown",
   "metadata": {},
   "source": [
    "## Object Oriented Programming\n",
    "- A way of writing code that focuses on grouping related data into classes and objects\n",
    "- This eliminates redundant code, and ensures that similar objects will behave in the same way\n",
    "\n",
    "Pillars: Encapsulation, Abstraction, Inheritance"
   ]
  },
  {
   "cell_type": "markdown",
   "metadata": {},
   "source": [
    "### Objects\n",
    "\n",
    "- Everything in Python is an object: (1, 'abc', [1,2,3])\n",
    "- Every object has a type {1: int}, {'abc': str}, {[1,2,3]: list}\n",
    "\n",
    "Each type contains different kinds of data and ways to access that data:"
   ]
  },
  {
   "cell_type": "code",
   "execution_count": 53,
   "metadata": {},
   "outputs": [
    {
     "name": "stdout",
     "output_type": "stream",
     "text": [
      "<class 'list'>\n",
      "[1, 2, 3]\n",
      "1\n",
      "3\n"
     ]
    }
   ],
   "source": [
    "mylist = [1, 2, 3]     #myList is a list object that exists and can be operated on\n",
    "print(type(mylist))\n",
    "print(mylist)\n",
    "print(mylist[0])\n",
    "print(len(mylist))"
   ]
  },
  {
   "cell_type": "markdown",
   "metadata": {},
   "source": [
    "- What is a list? How is it represented in memory? How does len() work? -- Doesn't matter\n",
    "- We don't need to know these things to use a list\n",
    "- We can trust that all lists will operate in the same way"
   ]
  },
  {
   "cell_type": "markdown",
   "metadata": {},
   "source": [
    "## Classes: blueprints for objects\n",
    "\n",
    "- *class* keyword is use to define *types*\n",
    "- OOP involves defining new types via classes"
   ]
  },
  {
   "cell_type": "code",
   "execution_count": 60,
   "metadata": {},
   "outputs": [
    {
     "name": "stdout",
     "output_type": "stream",
     "text": [
      "<class '__main__.Person'>\n",
      "Dylan 21\n"
     ]
    }
   ],
   "source": [
    "class Person(object):\n",
    "    def __init__(self, name, age):\n",
    "        self.name = name\n",
    "        self.age = age\n",
    "    def get_name(self):\n",
    "        return self.name\n",
    "    def age_up(self):\n",
    "        self.age += 1\n",
    "#     def __str__(self):\n",
    "#         return \"Person: \" + Person.get_name(self) \n",
    "\n",
    "p1 = Person('Dylan', 21)   #creating an object/instantiating a class\n",
    "print(type(p1))\n",
    "print(p1.name, p1.age) "
   ]
  },
  {
   "cell_type": "code",
   "execution_count": 63,
   "metadata": {},
   "outputs": [
    {
     "name": "stdout",
     "output_type": "stream",
     "text": [
      "Dylan 24\n"
     ]
    }
   ],
   "source": [
    "p1name = p1.get_name()\n",
    "p1.age_up()\n",
    "print(p1name, p1.age)\n",
    "#print(p1)"
   ]
  },
  {
   "cell_type": "markdown",
   "metadata": {},
   "source": [
    "### Variables and Methods\n",
    "\n",
    "- Variables: how can we represent the class\n",
    "- Methods: What can we do with the class\n",
    "\n",
    "Functions defined inside of classes are called *methods*\n",
    "- methods require a 'self' argument for definition, but not when they are called in practice"
   ]
  },
  {
   "cell_type": "markdown",
   "metadata": {},
   "source": [
    "### Instantiate a class with *__init__*\n",
    "\n",
    "- __init__ is automatically called when an object is created\n",
    "- Code inside of __init__ will contains the initial condition of the object\n",
    "- Usually used to define starting variables"
   ]
  },
  {
   "cell_type": "code",
   "execution_count": 31,
   "metadata": {},
   "outputs": [],
   "source": [
    "#Define a car class, containing attributes 'brand' and 'miles'\n",
    "#Use the init() method and the 'self' keyword\n",
    "\n",
    "class Car(object):\n",
    "    \n",
    "    #code\n",
    "\n",
    "#Create a new Car object, car1, with brand 'Ford' and 3000 miles on it\n"
   ]
  },
  {
   "cell_type": "markdown",
   "metadata": {},
   "source": [
    "### Why Object-Oriented?\n",
    "\n",
    "Encapsulation: related data and methods are bundled into a single unit (modular, reusable)\n",
    "- If you tried to call .age_up() on another type of object, there would be an error (only works for Person class)\n",
    "\n",
    "Abstraction: the user doesn't need to know the inner workings of the class to be able to use it\n",
    "- OR, they are not given the tools to manipulate the object the wrong way\n",
    "- Ensures the integrity of the data\n",
    "- Only showing the essentials gives a better UI\n",
    "\n",
    "You only tell the user how to interact with the class for them to be able to use it"
   ]
  },
  {
   "cell_type": "code",
   "execution_count": 66,
   "metadata": {},
   "outputs": [
    {
     "data": {
      "text/plain": [
       "'Dylan'"
      ]
     },
     "execution_count": 66,
     "metadata": {},
     "output_type": "execute_result"
    }
   ],
   "source": [
    "#Create a new Person: p1 = Person(name (str), age (int))\n",
    "#Use .get_name() to get the name of a person\n",
    "person = Person('Dylan', 21)\n",
    "person.get_name()"
   ]
  },
  {
   "cell_type": "markdown",
   "metadata": {},
   "source": [
    "### Class Variables\n",
    "- variables with values that are shared by all instances of the class\n",
    "- access class variables using the class name instead of self"
   ]
  },
  {
   "cell_type": "code",
   "execution_count": 47,
   "metadata": {},
   "outputs": [
    {
     "name": "stdout",
     "output_type": "stream",
     "text": [
      "0\n",
      "1\n",
      "2\n",
      "2\n"
     ]
    }
   ],
   "source": [
    "class Animal(object):\n",
    "    count = 0\n",
    "    \n",
    "    def __init__(self):\n",
    "        self.id = Animal.count     #unique for each instance\n",
    "        Animal.count += 1          #shared by all instances, increments each time an Animal is created\n",
    "    def get_id(self):\n",
    "        print(self.id)\n",
    "    def get_count(self):\n",
    "        print(Animal.count)\n",
    "\n",
    "cat = Animal()\n",
    "dog = Animal()\n",
    "\n",
    "cat.get_id()\n",
    "dog.get_id()\n",
    "cat.get_count()\n",
    "dog.get_count()\n"
   ]
  },
  {
   "cell_type": "markdown",
   "metadata": {},
   "source": [
    "### Inheritance: hierarchies of classes\n",
    "\n",
    "- A class can inherit the attributes and methods of another class\n",
    "- This creates a child/subclass and a parent/superclass\n",
    "\n",
    "All objects under the same parent class will have similar functionality\n",
    "- Child classes will contain more specific functionality\n",
    "- Child classes can extend, override, or simply inherit behavior of the parent class"
   ]
  },
  {
   "cell_type": "code",
   "execution_count": 48,
   "metadata": {},
   "outputs": [],
   "source": [
    "class Animal(object):\n",
    "    \n",
    "    def __init__(self, name, age):\n",
    "        self.age = age\n",
    "        self.name = name\n",
    "    def get_age(self):\n",
    "        return self.age\n",
    "    def get_name(self):\n",
    "        return self.name\n",
    "    def set_age(self, newage):\n",
    "        self.age = newage\n",
    "    def set_name(self, name):\n",
    "        self.name = name\n",
    "    def __str__(self):\n",
    "        return \"Animal: \" + str(self.name)\n",
    "        \n",
    "class Cat(Animal):\n",
    "    #cat class inherits all of the functionality of the Animal class\n",
    "    def speak(self):      #new method\n",
    "        print('meow')\n",
    "    def __str__(self):    #override __str__ method in Animal\n",
    "        return 'Cat: ' + str(self.name)\n",
    "    "
   ]
  },
  {
   "cell_type": "markdown",
   "metadata": {},
   "source": [
    "When a method is called on an object, Python will look \"youthfully\" first"
   ]
  },
  {
   "cell_type": "code",
   "execution_count": 49,
   "metadata": {},
   "outputs": [
    {
     "name": "stdout",
     "output_type": "stream",
     "text": [
      "Mr Whiskers\n",
      "Animal: Fred\n",
      "Cat: Mr Whiskers\n",
      "meow\n"
     ]
    }
   ],
   "source": [
    "maybe_a_cat = Animal('Fred', 5)\n",
    "definitely_a_cat = Cat('Mr Whiskers', 12)\n",
    "print(definitely_a_cat.get_name())\n",
    "print(maybe_a_cat)\n",
    "print(definitely_a_cat)\n",
    "definitely_a_cat.speak()"
   ]
  },
  {
   "cell_type": "code",
   "execution_count": 52,
   "metadata": {},
   "outputs": [],
   "source": [
    "#Create a subclass of Cat, Garfield\n",
    "#Override the inherited .speak() method to print \"I want lasagna\" when .speak() is called\n",
    "# Test your Garfield class by creating a Garfield object, and calling .speak() and one other inherited method\n"
   ]
  },
  {
   "cell_type": "code",
   "execution_count": null,
   "metadata": {
    "collapsed": true
   },
   "outputs": [],
   "source": []
  }
 ],
 "metadata": {
  "kernelspec": {
   "display_name": "Python 3",
   "language": "python",
   "name": "python3"
  },
  "language_info": {
   "codemirror_mode": {
    "name": "ipython",
    "version": 3
   },
   "file_extension": ".py",
   "mimetype": "text/x-python",
   "name": "python",
   "nbconvert_exporter": "python",
   "pygments_lexer": "ipython3",
   "version": "3.6.8"
  }
 },
 "nbformat": 4,
 "nbformat_minor": 2
}
